{
 "cells": [
  {
   "cell_type": "markdown",
   "metadata": {},
   "source": [
    "# AI61002_Spr2020\n",
    "## Tutorial 4: Training LeNet for Digit Recognition using Gradient Descent"
   ]
  },
  {
   "cell_type": "code",
   "execution_count": 1,
   "metadata": {},
   "outputs": [],
   "source": [
    "%matplotlib inline\n",
    "import torch\n",
    "import numpy as np\n",
    "import torch.nn as nn\n",
    "import torch.nn.functional as F\n",
    "import matplotlib.pyplot as plt\n",
    "from torchvision import transforms, datasets"
   ]
  },
  {
   "cell_type": "markdown",
   "metadata": {},
   "source": [
    "### Load data"
   ]
  },
  {
   "cell_type": "code",
   "execution_count": 2,
   "metadata": {},
   "outputs": [],
   "source": [
    "apply_transform = transforms.Compose([transforms.Resize(32), transforms.ToTensor()])\n",
    "BatchSize = 256 # change according to system specs\n",
    "\n",
    "trainset = datasets.MNIST(root='./MNIST', train=True, download=True, transform=apply_transform)\n",
    "trainLoader = torch.utils.data.DataLoader(trainset, batch_size=BatchSize,\n",
    "                                          shuffle=True, num_workers=4) # Creating dataloader\n",
    "\n",
    "# Validation set with random rotations in the range [-90,90]\n",
    "testset = datasets.MNIST(root='./MNIST', train=False, download=True, transform=apply_transform)\n",
    "testLoader = torch.utils.data.DataLoader(testset, batch_size=BatchSize,\n",
    "                                         shuffle=False, num_workers=4) # Creating dataloader"
   ]
  },
  {
   "cell_type": "code",
   "execution_count": 3,
   "metadata": {},
   "outputs": [
    {
     "name": "stdout",
     "output_type": "stream",
     "text": [
      "No. of samples in train set: 60000\n",
      "No. of samples in test set: 10000\n"
     ]
    }
   ],
   "source": [
    "# Size of train and test datasets\n",
    "print('No. of samples in train set: '+str(len(trainLoader.dataset)))\n",
    "print('No. of samples in test set: '+str(len(testLoader.dataset)))"
   ]
  },
  {
   "cell_type": "markdown",
   "metadata": {},
   "source": [
    "### Define model architecture"
   ]
  },
  {
   "cell_type": "code",
   "execution_count": 4,
   "metadata": {},
   "outputs": [],
   "source": [
    "class LeNet(nn.Module):\n",
    "    def __init__(self):\n",
    "        super(LeNet, self).__init__()\n",
    "        self.conv1 = nn.Conv2d(1, 6, kernel_size=5)\n",
    "        self.pool1 = nn.MaxPool2d(kernel_size=2,stride=2)\n",
    "        self.conv2 = nn.Conv2d(6, 16, kernel_size=5)\n",
    "        self.pool2 = nn.MaxPool2d(kernel_size=2,stride=2)        \n",
    "        self.fc1 = nn.Linear(400, 120)\n",
    "        self.fc2 = nn.Linear(120, 84)\n",
    "        self.fc3 = nn.Linear(84, 10)\n",
    "\n",
    "    def forward(self, x):\n",
    "        x = F.relu(self.conv1(x))\n",
    "        x = self.pool1(x)\n",
    "        x = F.relu(self.conv2(x))\n",
    "        x = self.pool2(x)\n",
    "        x = x.view(-1, 400)\n",
    "        x = F.relu(self.fc1(x)) \n",
    "        x = F.relu(self.fc2(x))\n",
    "        x = self.fc3(x)\n",
    "        return F.log_softmax(x,dim=1)"
   ]
  },
  {
   "cell_type": "code",
   "execution_count": 10,
   "metadata": {},
   "outputs": [
    {
     "name": "stdout",
     "output_type": "stream",
     "text": [
      "LeNet(\n",
      "  (conv1): Conv2d(1, 6, kernel_size=(5, 5), stride=(1, 1))\n",
      "  (pool1): MaxPool2d(kernel_size=2, stride=2, padding=0, dilation=1, ceil_mode=False)\n",
      "  (conv2): Conv2d(6, 16, kernel_size=(5, 5), stride=(1, 1))\n",
      "  (pool2): MaxPool2d(kernel_size=2, stride=2, padding=0, dilation=1, ceil_mode=False)\n",
      "  (fc1): Linear(in_features=400, out_features=120, bias=True)\n",
      "  (fc2): Linear(in_features=120, out_features=84, bias=True)\n",
      "  (fc3): Linear(in_features=84, out_features=10, bias=True)\n",
      ")\n",
      "GPU is avaialble!\n"
     ]
    }
   ],
   "source": [
    "use_gpu = torch.cuda.is_available()\n",
    "net = LeNet()\n",
    "print(net)\n",
    "if use_gpu:\n",
    "    print('GPU is avaialble!')\n",
    "    net = net.cuda()"
   ]
  },
  {
   "cell_type": "markdown",
   "metadata": {},
   "source": [
    "### Train model"
   ]
  },
  {
   "cell_type": "code",
   "execution_count": 11,
   "metadata": {},
   "outputs": [
    {
     "name": "stdout",
     "output_type": "stream",
     "text": [
      "Epoch 1/50 : Training loss: 2.3062 | Training Accuracy: 6.3983\n",
      "Epoch 2/50 : Training loss: 2.3058 | Training Accuracy: 6.7583\n",
      "Epoch 3/50 : Training loss: 2.3054 | Training Accuracy: 7.1583\n",
      "Epoch 4/50 : Training loss: 2.3051 | Training Accuracy: 7.6150\n",
      "Epoch 5/50 : Training loss: 2.3047 | Training Accuracy: 8.0433\n",
      "Epoch 6/50 : Training loss: 2.3044 | Training Accuracy: 8.5633\n",
      "Epoch 7/50 : Training loss: 2.3040 | Training Accuracy: 9.0483\n",
      "Epoch 8/50 : Training loss: 2.3037 | Training Accuracy: 9.4833\n",
      "Epoch 9/50 : Training loss: 2.3034 | Training Accuracy: 9.8750\n",
      "Epoch 10/50 : Training loss: 2.3031 | Training Accuracy: 10.1667\n",
      "Epoch 11/50 : Training loss: 2.3028 | Training Accuracy: 10.4517\n",
      "Epoch 12/50 : Training loss: 2.3024 | Training Accuracy: 10.7150\n",
      "Epoch 13/50 : Training loss: 2.3022 | Training Accuracy: 11.0250\n",
      "Epoch 14/50 : Training loss: 2.3019 | Training Accuracy: 11.2650\n",
      "Epoch 15/50 : Training loss: 2.3016 | Training Accuracy: 11.4617\n",
      "Epoch 16/50 : Training loss: 2.3013 | Training Accuracy: 11.6383\n",
      "Epoch 17/50 : Training loss: 2.3010 | Training Accuracy: 11.8083\n",
      "Epoch 18/50 : Training loss: 2.3007 | Training Accuracy: 12.0117\n",
      "Epoch 19/50 : Training loss: 2.3004 | Training Accuracy: 12.1800\n",
      "Epoch 20/50 : Training loss: 2.3001 | Training Accuracy: 12.3700\n",
      "Epoch 21/50 : Training loss: 2.2998 | Training Accuracy: 12.5367\n",
      "Epoch 22/50 : Training loss: 2.2996 | Training Accuracy: 12.7550\n",
      "Epoch 23/50 : Training loss: 2.2992 | Training Accuracy: 12.9767\n",
      "Epoch 24/50 : Training loss: 2.2989 | Training Accuracy: 13.1867\n",
      "Epoch 25/50 : Training loss: 2.2986 | Training Accuracy: 13.4583\n",
      "Epoch 26/50 : Training loss: 2.2983 | Training Accuracy: 13.7883\n",
      "Epoch 27/50 : Training loss: 2.2980 | Training Accuracy: 14.1200\n",
      "Epoch 28/50 : Training loss: 2.2977 | Training Accuracy: 14.4400\n",
      "Epoch 29/50 : Training loss: 2.2974 | Training Accuracy: 14.7283\n",
      "Epoch 30/50 : Training loss: 2.2971 | Training Accuracy: 15.0967\n",
      "Epoch 31/50 : Training loss: 2.2968 | Training Accuracy: 15.3717\n",
      "Epoch 32/50 : Training loss: 2.2965 | Training Accuracy: 15.7217\n",
      "Epoch 33/50 : Training loss: 2.2961 | Training Accuracy: 16.0367\n",
      "Epoch 34/50 : Training loss: 2.2958 | Training Accuracy: 16.3850\n",
      "Epoch 35/50 : Training loss: 2.2954 | Training Accuracy: 16.6867\n",
      "Epoch 36/50 : Training loss: 2.2950 | Training Accuracy: 16.9833\n",
      "Epoch 37/50 : Training loss: 2.2947 | Training Accuracy: 17.3967\n",
      "Epoch 38/50 : Training loss: 2.2943 | Training Accuracy: 18.1900\n",
      "Epoch 39/50 : Training loss: 2.2938 | Training Accuracy: 19.4950\n",
      "Epoch 40/50 : Training loss: 2.2934 | Training Accuracy: 21.0517\n",
      "Epoch 41/50 : Training loss: 2.2930 | Training Accuracy: 22.6483\n",
      "Epoch 42/50 : Training loss: 2.2926 | Training Accuracy: 24.3383\n",
      "Epoch 43/50 : Training loss: 2.2921 | Training Accuracy: 25.8500\n",
      "Epoch 44/50 : Training loss: 2.2916 | Training Accuracy: 27.1667\n",
      "Epoch 45/50 : Training loss: 2.2911 | Training Accuracy: 28.2000\n",
      "Epoch 46/50 : Training loss: 2.2906 | Training Accuracy: 29.1650\n",
      "Epoch 47/50 : Training loss: 2.2900 | Training Accuracy: 30.0750\n",
      "Epoch 48/50 : Training loss: 2.2895 | Training Accuracy: 30.8067\n",
      "Epoch 49/50 : Training loss: 2.2889 | Training Accuracy: 31.2900\n",
      "Epoch 50/50 : Training loss: 2.2882 | Training Accuracy: 31.6433\n"
     ]
    }
   ],
   "source": [
    "criterion = nn.CrossEntropyLoss() \n",
    "learning_rate = 0.1\n",
    "num_epochs = 50\n",
    "\n",
    "train_loss = []\n",
    "train_acc = []\n",
    "for epoch in range(num_epochs):\n",
    "    \n",
    "    running_loss = 0.0 \n",
    "    running_corr = 0\n",
    "        \n",
    "    for i,data in enumerate(trainLoader):\n",
    "        inputs,labels = data\n",
    "        if use_gpu:\n",
    "            inputs, labels = inputs.cuda(),labels.cuda() \n",
    "        # Initializing model gradients to zero\n",
    "        net.zero_grad() \n",
    "        # Data feed-forward through the network\n",
    "        outputs = net(inputs)\n",
    "        # Predicted class is the one with maximum probability\n",
    "        preds = torch.argmax(outputs,dim=1)\n",
    "        # Finding the loss\n",
    "        loss = criterion(outputs, labels)\n",
    "        # Accumulating the loss for each batch\n",
    "        running_loss += loss \n",
    "        # Accumulate number of correct predictions\n",
    "        running_corr += torch.sum(preds==labels)    \n",
    "        \n",
    "    totalLoss = running_loss/(i+1)\n",
    "    # Calculating gradients\n",
    "    totalLoss.backward()\n",
    "    # Updating the model parameters\n",
    "    for f in net.parameters():\n",
    "        f.data.sub_(f.grad.data * learning_rate)\n",
    "        \n",
    "    epoch_loss = running_loss.item()/(i+1)   #Total loss for one epoch\n",
    "    epoch_acc = running_corr.item()/60000\n",
    "    \n",
    "    \n",
    "         \n",
    "    train_loss.append(epoch_loss) #Saving the loss over epochs for plotting the graph\n",
    "    train_acc.append(epoch_acc) #Saving the accuracy over epochs for plotting the graph\n",
    "       \n",
    "        \n",
    "    print('Epoch {:.0f}/{:.0f} : Training loss: {:.4f} | Training Accuracy: {:.4f}'.format(epoch+1,num_epochs,epoch_loss,epoch_acc*100))              "
   ]
  },
  {
   "cell_type": "code",
   "execution_count": 12,
   "metadata": {},
   "outputs": [
    {
     "data": {
      "text/plain": [
       "Text(0,0.5,'Training')"
      ]
     },
     "execution_count": 12,
     "metadata": {},
     "output_type": "execute_result"
    },
    {
     "data": {
      "image/png": "[encoded data removed]",
      "text/plain": [
       "<Figure size 1080x360 with 2 Axes>"
      ]
     },
     "metadata": {},
     "output_type": "display_data"
    }
   ],
   "source": [
    "fig = plt.figure(figsize=[15,5]) \n",
    "plt.subplot(121)\n",
    "plt.plot(range(num_epochs),train_loss,'r-',label='Loss') \n",
    "plt.legend(loc='upper right')\n",
    "plt.xlabel('Epochs')\n",
    "plt.ylabel('Training')\n",
    "plt.subplot(122)\n",
    "plt.plot(range(num_epochs),train_acc,'g-',label='Accuracy') \n",
    "plt.legend(loc='upper right')\n",
    "plt.xlabel('Epochs')\n",
    "plt.ylabel('Training')"
   ]
  },
  {
   "cell_type": "markdown",
   "metadata": {},
   "source": [
    "### Evaluation of trained model"
   ]
  },
  {
   "cell_type": "code",
   "execution_count": 13,
   "metadata": {},
   "outputs": [
    {
     "name": "stdout",
     "output_type": "stream",
     "text": [
      "Testing accuracy =  32.12\n"
     ]
    }
   ],
   "source": [
    "correct_pred = 0\n",
    "for data in testLoader:\n",
    "    inputs,labels = data\n",
    "    if use_gpu:\n",
    "        inputs, labels = inputs.cuda(),labels.cuda()\n",
    "    # Feedforward train data batch through model\n",
    "    output = net(inputs) \n",
    "    # Predicted class is the one with maximum probability\n",
    "    preds = torch.argmax(output,dim=1)\n",
    "    correct_pred += torch.sum(preds==labels)\n",
    "\n",
    "test_accuracy = correct_pred.item()/10000.0\n",
    "print('Testing accuracy = ',test_accuracy*100)"
   ]
  },
  {
   "cell_type": "code",
   "execution_count": null,
   "metadata": {},
   "outputs": [],
   "source": []
  }
 ],
 "metadata": {
  "kernelspec": {
   "display_name": "Python 3",
   "language": "python",
   "name": "python3"
  },
  "language_info": {
   "codemirror_mode": {
    "name": "ipython",
    "version": 3
   },
   "file_extension": ".py",
   "mimetype": "text/x-python",
   "name": "python",
   "nbconvert_exporter": "python",
   "pygments_lexer": "ipython3",
   "version": "3.6.7"
  }
 },
 "nbformat": 4,
 "nbformat_minor": 2
}
