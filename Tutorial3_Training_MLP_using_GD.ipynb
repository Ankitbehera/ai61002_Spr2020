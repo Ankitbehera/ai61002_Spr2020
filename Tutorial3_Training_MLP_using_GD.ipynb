{
 "cells": [
  {
   "cell_type": "markdown",
   "metadata": {},
   "source": [
    "# AI61002_Spr2020\n",
    "## Tutorial 3: Training MLP for Digit Recognition using Gradient Descent"
   ]
  },
  {
   "cell_type": "code",
   "execution_count": 1,
   "metadata": {},
   "outputs": [],
   "source": [
    "%matplotlib inline\n",
    "import torch\n",
    "import numpy as np\n",
    "import torch.nn as nn\n",
    "import torch.nn.functional as F\n",
    "import matplotlib.pyplot as plt\n",
    "from torchvision import transforms, datasets"
   ]
  },
  {
   "cell_type": "markdown",
   "metadata": {},
   "source": [
    "### Load data"
   ]
  },
  {
   "cell_type": "code",
   "execution_count": 2,
   "metadata": {},
   "outputs": [],
   "source": [
    "apply_transform = transforms.Compose([transforms.ToTensor()])\n",
    "BatchSize = 256 # change according to system specs\n",
    "\n",
    "trainset = datasets.MNIST(root='./MNIST', train=True, download=True, transform=apply_transform)\n",
    "trainLoader = torch.utils.data.DataLoader(trainset, batch_size=BatchSize,\n",
    "                                          shuffle=True, num_workers=4) # Creating dataloader\n",
    "\n",
    "# Validation set with random rotations in the range [-90,90]\n",
    "testset = datasets.MNIST(root='./MNIST', train=False, download=True, transform=apply_transform)\n",
    "testLoader = torch.utils.data.DataLoader(testset, batch_size=BatchSize,\n",
    "                                         shuffle=False, num_workers=4) # Creating dataloader"
   ]
  },
  {
   "cell_type": "code",
   "execution_count": 3,
   "metadata": {},
   "outputs": [
    {
     "name": "stdout",
     "output_type": "stream",
     "text": [
      "No. of samples in train set: 60000\n",
      "No. of samples in test set: 10000\n"
     ]
    }
   ],
   "source": [
    "# Size of train and test datasets\n",
    "print('No. of samples in train set: '+str(len(trainLoader.dataset)))\n",
    "print('No. of samples in test set: '+str(len(testLoader.dataset)))"
   ]
  },
  {
   "cell_type": "markdown",
   "metadata": {},
   "source": [
    "### Define model architecture"
   ]
  },
  {
   "cell_type": "code",
   "execution_count": 4,
   "metadata": {},
   "outputs": [],
   "source": [
    "class MLP(nn.Module):   # nn.Module --> Base class for all NN modules\n",
    "    def __init__(self):\n",
    "        super(MLP, self).__init__()\n",
    "        self.fc1 = nn.Linear(784,100)\n",
    "        self.fc2 = nn.Linear(100,10)\n",
    "    def forward(self, x):\n",
    "        x = self.fc1(x)\n",
    "        x = torch.sigmoid(x)\n",
    "        x = self.fc2(x)\n",
    "        x = F.log_softmax(x,dim=1)\n",
    "        return x"
   ]
  },
  {
   "cell_type": "code",
   "execution_count": 7,
   "metadata": {},
   "outputs": [
    {
     "name": "stdout",
     "output_type": "stream",
     "text": [
      "MLP(\n",
      "  (fc1): Linear(in_features=784, out_features=100, bias=True)\n",
      "  (fc2): Linear(in_features=100, out_features=10, bias=True)\n",
      ")\n",
      "GPU is avaialble!\n"
     ]
    }
   ],
   "source": [
    "use_gpu = torch.cuda.is_available()\n",
    "net = MLP()\n",
    "print(net)\n",
    "if use_gpu:\n",
    "    print('GPU is avaialble!')\n",
    "    net = net.cuda()"
   ]
  },
  {
   "cell_type": "markdown",
   "metadata": {},
   "source": [
    "### Train model"
   ]
  },
  {
   "cell_type": "code",
   "execution_count": 8,
   "metadata": {},
   "outputs": [
    {
     "name": "stdout",
     "output_type": "stream",
     "text": [
      "Epoch 1/50 : Training loss: 2.3518 | Training Accuracy: 9.9467\n",
      "Epoch 2/50 : Training loss: 2.3291 | Training Accuracy: 9.9933\n",
      "Epoch 3/50 : Training loss: 2.3147 | Training Accuracy: 10.0967\n",
      "Epoch 4/50 : Training loss: 2.3053 | Training Accuracy: 10.8633\n",
      "Epoch 5/50 : Training loss: 2.2988 | Training Accuracy: 12.4817\n",
      "Epoch 6/50 : Training loss: 2.2940 | Training Accuracy: 20.2933\n",
      "Epoch 7/50 : Training loss: 2.2901 | Training Accuracy: 22.4783\n",
      "Epoch 8/50 : Training loss: 2.2869 | Training Accuracy: 19.7083\n",
      "Epoch 9/50 : Training loss: 2.2838 | Training Accuracy: 17.1400\n",
      "Epoch 10/50 : Training loss: 2.2810 | Training Accuracy: 15.9967\n",
      "Epoch 11/50 : Training loss: 2.2784 | Training Accuracy: 15.8950\n",
      "Epoch 12/50 : Training loss: 2.2757 | Training Accuracy: 16.4500\n",
      "Epoch 13/50 : Training loss: 2.2730 | Training Accuracy: 17.4100\n",
      "Epoch 14/50 : Training loss: 2.2703 | Training Accuracy: 18.5283\n",
      "Epoch 15/50 : Training loss: 2.2677 | Training Accuracy: 19.7983\n",
      "Epoch 16/50 : Training loss: 2.2651 | Training Accuracy: 21.2033\n",
      "Epoch 17/50 : Training loss: 2.2624 | Training Accuracy: 22.5467\n",
      "Epoch 18/50 : Training loss: 2.2597 | Training Accuracy: 23.7700\n",
      "Epoch 19/50 : Training loss: 2.2571 | Training Accuracy: 25.0433\n",
      "Epoch 20/50 : Training loss: 2.2543 | Training Accuracy: 26.4283\n",
      "Epoch 21/50 : Training loss: 2.2516 | Training Accuracy: 27.9433\n",
      "Epoch 22/50 : Training loss: 2.2489 | Training Accuracy: 29.1900\n",
      "Epoch 23/50 : Training loss: 2.2462 | Training Accuracy: 30.5850\n",
      "Epoch 24/50 : Training loss: 2.2435 | Training Accuracy: 31.8550\n",
      "Epoch 25/50 : Training loss: 2.2407 | Training Accuracy: 33.1383\n",
      "Epoch 26/50 : Training loss: 2.2379 | Training Accuracy: 34.3767\n",
      "Epoch 27/50 : Training loss: 2.2350 | Training Accuracy: 35.6133\n",
      "Epoch 28/50 : Training loss: 2.2322 | Training Accuracy: 36.7867\n",
      "Epoch 29/50 : Training loss: 2.2293 | Training Accuracy: 37.8650\n",
      "Epoch 30/50 : Training loss: 2.2264 | Training Accuracy: 39.0017\n",
      "Epoch 31/50 : Training loss: 2.2236 | Training Accuracy: 39.9800\n",
      "Epoch 32/50 : Training loss: 2.2206 | Training Accuracy: 40.9417\n",
      "Epoch 33/50 : Training loss: 2.2177 | Training Accuracy: 41.9017\n",
      "Epoch 34/50 : Training loss: 2.2147 | Training Accuracy: 42.8617\n",
      "Epoch 35/50 : Training loss: 2.2117 | Training Accuracy: 43.7450\n",
      "Epoch 36/50 : Training loss: 2.2087 | Training Accuracy: 44.5550\n",
      "Epoch 37/50 : Training loss: 2.2056 | Training Accuracy: 45.3817\n",
      "Epoch 38/50 : Training loss: 2.2025 | Training Accuracy: 46.0850\n",
      "Epoch 39/50 : Training loss: 2.1993 | Training Accuracy: 46.8283\n",
      "Epoch 40/50 : Training loss: 2.1961 | Training Accuracy: 47.5750\n",
      "Epoch 41/50 : Training loss: 2.1930 | Training Accuracy: 48.1900\n",
      "Epoch 42/50 : Training loss: 2.1897 | Training Accuracy: 48.9300\n",
      "Epoch 43/50 : Training loss: 2.1865 | Training Accuracy: 49.5133\n",
      "Epoch 44/50 : Training loss: 2.1832 | Training Accuracy: 50.1100\n",
      "Epoch 45/50 : Training loss: 2.1798 | Training Accuracy: 50.7067\n",
      "Epoch 46/50 : Training loss: 2.1764 | Training Accuracy: 51.3117\n",
      "Epoch 47/50 : Training loss: 2.1730 | Training Accuracy: 51.7833\n",
      "Epoch 48/50 : Training loss: 2.1695 | Training Accuracy: 52.3017\n",
      "Epoch 49/50 : Training loss: 2.1660 | Training Accuracy: 52.7350\n",
      "Epoch 50/50 : Training loss: 2.1625 | Training Accuracy: 53.1917\n"
     ]
    }
   ],
   "source": [
    "criterion = nn.CrossEntropyLoss() \n",
    "learning_rate = 0.1\n",
    "num_epochs = 50\n",
    "\n",
    "train_loss = []\n",
    "train_acc = []\n",
    "for epoch in range(num_epochs):\n",
    "#     epochStartTime = time.time()\n",
    "    \n",
    "    running_loss = 0.0 \n",
    "    running_corr = 0\n",
    "        \n",
    "    for i,data in enumerate(trainLoader):\n",
    "        inputs,labels = data\n",
    "        if use_gpu:\n",
    "            inputs, labels = inputs.cuda(),labels.cuda() \n",
    "        # Initializing model gradients to zero\n",
    "        net.zero_grad() \n",
    "        # Data feed-forward through the network\n",
    "        outputs = net(inputs.view(inputs.shape[0],-1))\n",
    "        # Predicted class is the one with maximum probability\n",
    "        preds = torch.argmax(outputs,dim=1)\n",
    "        # Finding the loss\n",
    "        loss = criterion(outputs, labels) \n",
    "        # Accumulating the loss for each batch\n",
    "        running_loss += loss \n",
    "        # Accumulate number of correct predictions\n",
    "        running_corr += torch.sum(preds==labels)    \n",
    "        \n",
    "    totalLoss = running_loss/(i+1)\n",
    "    # Calculating gradients\n",
    "    totalLoss.backward()\n",
    "    # Updating the model parameters\n",
    "    for f in net.parameters():\n",
    "        f.data.sub_(f.grad.data * learning_rate)\n",
    "        \n",
    "    epoch_loss = running_loss.item()/(i+1)   #Total loss for one epoch\n",
    "    epoch_acc = running_corr.item()/60000\n",
    "    \n",
    "    \n",
    "         \n",
    "    train_loss.append(epoch_loss) #Saving the loss over epochs for plotting the graph\n",
    "    train_acc.append(epoch_acc) #Saving the accuracy over epochs for plotting the graph\n",
    "       \n",
    "        \n",
    "    print('Epoch {:.0f}/{:.0f} : Training loss: {:.4f} | Training Accuracy: {:.4f}'.format(epoch+1,num_epochs,epoch_loss,epoch_acc*100))              "
   ]
  },
  {
   "cell_type": "code",
   "execution_count": 13,
   "metadata": {},
   "outputs": [
    {
     "data": {
      "text/plain": [
       "Text(0,0.5,'Training')"
      ]
     },
     "execution_count": 13,
     "metadata": {},
     "output_type": "execute_result"
    },
    {
     "data": {
      "image/png": "[encoded data removed]",
      "text/plain": [
       "<Figure size 1080x360 with 2 Axes>"
      ]
     },
     "metadata": {},
     "output_type": "display_data"
    }
   ],
   "source": [
    "fig = plt.figure(figsize=[15,5]) \n",
    "plt.subplot(121)\n",
    "plt.plot(range(num_epochs),train_loss,'r-',label='Loss') \n",
    "plt.legend(loc='upper right')\n",
    "plt.xlabel('Epochs')\n",
    "plt.ylabel('Training')\n",
    "plt.subplot(122)\n",
    "plt.plot(range(num_epochs),train_acc,'g-',label='Accuracy') \n",
    "plt.legend(loc='upper right')\n",
    "plt.xlabel('Epochs')\n",
    "plt.ylabel('Training')"
   ]
  },
  {
   "cell_type": "markdown",
   "metadata": {},
   "source": [
    "### Evaluation of trained model"
   ]
  },
  {
   "cell_type": "code",
   "execution_count": 14,
   "metadata": {},
   "outputs": [
    {
     "name": "stdout",
     "output_type": "stream",
     "text": [
      "Testing accuracy =  55.02\n"
     ]
    }
   ],
   "source": [
    "correct_pred = 0\n",
    "for data in testLoader:\n",
    "    inputs,labels = data\n",
    "    if use_gpu:\n",
    "        inputs, labels = inputs.cuda(),labels.cuda()\n",
    "    # Feedforward train data batch through model\n",
    "    output = net(inputs.view(inputs.shape[0],-1)) \n",
    "    # Predicted class is the one with maximum probability\n",
    "    preds = torch.argmax(output,dim=1)\n",
    "    correct_pred += torch.sum(preds==labels)\n",
    "\n",
    "test_accuracy = correct_pred.item()/10000.0\n",
    "print('Testing accuracy = ',test_accuracy*100)"
   ]
  },
  {
   "cell_type": "code",
   "execution_count": null,
   "metadata": {},
   "outputs": [],
   "source": []
  }
 ],
 "metadata": {
  "kernelspec": {
   "display_name": "Python 3",
   "language": "python",
   "name": "python3"
  },
  "language_info": {
   "codemirror_mode": {
    "name": "ipython",
    "version": 3
   },
   "file_extension": ".py",
   "mimetype": "text/x-python",
   "name": "python",
   "nbconvert_exporter": "python",
   "pygments_lexer": "ipython3",
   "version": "3.6.7"
  }
 },
 "nbformat": 4,
 "nbformat_minor": 2
}
